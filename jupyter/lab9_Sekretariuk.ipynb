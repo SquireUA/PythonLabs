{
 "cells": [
  {
   "cell_type": "markdown",
   "id": "6bd16044",
   "metadata": {},
   "source": [
    "<a href=\"https://github.com/SquireUA\">Секретарюк Валерій</a>, 2023"
   ]
  },
  {
   "cell_type": "markdown",
   "id": "2a2fbc55",
   "metadata": {},
   "source": [
    "<h1 align=\"center\">Лабораторна робота №9. Рядки. Методи рядків і списків. Частина І</h1>"
   ]
  },
  {
   "cell_type": "markdown",
   "id": "eac6e3fe",
   "metadata": {},
   "source": [
    "<h2>Завдання 1</h2>"
   ]
  },
  {
   "cell_type": "code",
   "execution_count": null,
   "id": "99b25aed",
   "metadata": {},
   "outputs": [],
   "source": [
    "text = input(\"Enter your message: \")\n",
    "cipher = ''\n",
    "while True:\n",
    "    zsuv = int(input(\"Enter number of zsuv(1-25): \"))\n",
    "    if zsuv >= 1 and zsuv <= 25:\n",
    "        break\n",
    "    else:\n",
    "        print(\"Number is not correct. Please try again.\")\n",
    "\n",
    "for char in text:\n",
    "    code = ord(char)\n",
    "    if code >= 65 and code <= 90:\n",
    "        code += zsuv\n",
    "        if code > 90:\n",
    "            code = 64 + (code - 90)\n",
    "\n",
    "    if code >= 97 and code <= 122:\n",
    "        code += zsuv\n",
    "        if code > 122:\n",
    "            code = 96 + (code - 122)\n",
    "    cipher += chr(code)\n",
    "\n",
    "print(cipher)"
   ]
  },
  {
   "cell_type": "markdown",
   "id": "b2b6720f",
   "metadata": {},
   "source": [
    "<h1 align=\"center\">Контрольні запитання</h1>"
   ]
  },
  {
   "cell_type": "markdown",
   "id": "d70b00e3",
   "metadata": {},
   "source": [
    "<ol>\n",
    "    <li>'smith'>'Smith'</li>\n",
    "    <li>are</li>\n",
    "    <li>Виведе помилку бо s1 - це не integer</li>\n",
    "</ol>"
   ]
  }
 ],
 "metadata": {
  "kernelspec": {
   "display_name": "Python 3 (ipykernel)",
   "language": "python",
   "name": "python3"
  },
  "language_info": {
   "codemirror_mode": {
    "name": "ipython",
    "version": 3
   },
   "file_extension": ".py",
   "mimetype": "text/x-python",
   "name": "python",
   "nbconvert_exporter": "python",
   "pygments_lexer": "ipython3",
   "version": "3.10.9"
  }
 },
 "nbformat": 4,
 "nbformat_minor": 5
}
