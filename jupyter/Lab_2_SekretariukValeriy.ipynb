{
 "cells": [
  {
   "cell_type": "markdown",
   "id": "e10ba3cd",
   "metadata": {},
   "source": [
    "<a href=\"https://github.com/SquireUA\">Секретарюк Валерій</a>, 2023"
   ]
  },
  {
   "cell_type": "markdown",
   "id": "99b084ec",
   "metadata": {},
   "source": [
    "<h1 align=\"center\">Лабораторна робота №2. Функція <i>print()</i></h1>"
   ]
  },
  {
   "cell_type": "markdown",
   "id": "e26b91a9",
   "metadata": {},
   "source": [
    "<ol>\n",
    "    <li>Змінив код програми:</li>\n",
    "</ol>"
   ]
  },
  {
   "cell_type": "code",
   "execution_count": 19,
   "id": "67cf0039",
   "metadata": {},
   "outputs": [
    {
     "name": "stdout",
     "output_type": "stream",
     "text": [
      "Programing***Essential***in...Python\n"
     ]
    }
   ],
   "source": [
    "print(\"Programing\", \"Essential\", \"in\", sep=\"***\", end=\"...\")\n",
    "print(\"Python\")"
   ]
  },
  {
   "cell_type": "markdown",
   "id": "5cfd3956",
   "metadata": {},
   "source": [
    "<ol start=\"2\">  \n",
    "     <li>Написав програму, яка виводить на екран наступну картинку:</li>\n",
    "</ol>"
   ]
  },
  {
   "cell_type": "code",
   "execution_count": 20,
   "id": "a6b30640",
   "metadata": {},
   "outputs": [
    {
     "name": "stdout",
     "output_type": "stream",
     "text": [
      "    *  \n",
      "   * *\n",
      "  *   *\n",
      " *     *\n",
      "***   ***\n",
      "  *   *\n",
      "  *   *\n",
      "  *   *\n",
      "  *****\n",
      "\n"
     ]
    }
   ],
   "source": [
    "print(\"    *  \\n   * *\\n  *   *\\n *     *\\n***   ***\\n  *   *\\n  *   *\\n  *   *\\n  *****\\n\")"
   ]
  },
  {
   "cell_type": "markdown",
   "id": "3e6e95c1",
   "metadata": {},
   "source": [
    "<ol start=\"3\">\n",
    "    <li>Вивів на екран наступний рядок:</li>\n",
    "</ol>    "
   ]
  },
  {
   "cell_type": "code",
   "execution_count": 21,
   "id": "4e7dcc58",
   "metadata": {},
   "outputs": [
    {
     "name": "stdout",
     "output_type": "stream",
     "text": [
      "I`m student\n"
     ]
    }
   ],
   "source": [
    "print(\"I`m student\")"
   ]
  },
  {
   "cell_type": "markdown",
   "id": "63f0daf3",
   "metadata": {},
   "source": [
    "<ol start=\"4\">  \n",
    "     <li>Написав програму, яка виводить наступне:</li>\n",
    "</ol>"
   ]
  },
  {
   "cell_type": "code",
   "execution_count": 22,
   "id": "fc0aaf69",
   "metadata": {},
   "outputs": [
    {
     "name": "stdout",
     "output_type": "stream",
     "text": [
      "\"I`m\"\n",
      "\"\"learnig\"\"\n",
      "\"\"\"Python\"\"\"\n"
     ]
    }
   ],
   "source": [
    "print(\"\\\"I`m\\\"\\n\\\"\\\"learnig\\\"\\\"\\n\\\"\\\"\\\"Python\\\"\\\"\\\"\")\n"
   ]
  },
  {
   "cell_type": "markdown",
   "id": "a34e1c5e",
   "metadata": {},
   "source": [
    "<ol start=\"5\">  \n",
    "     <li>500 у вісімковій системі:</li>\n",
    "</ol>"
   ]
  },
  {
   "cell_type": "code",
   "execution_count": 23,
   "id": "c7b1b932",
   "metadata": {},
   "outputs": [
    {
     "name": "stdout",
     "output_type": "stream",
     "text": [
      "320\n"
     ]
    }
   ],
   "source": [
    "print(0o500)"
   ]
  },
  {
   "cell_type": "markdown",
   "id": "ac96032b",
   "metadata": {},
   "source": [
    "<ol start=\"6\">  \n",
    "     <li>777 в шістнадцятковій системі:</li>\n",
    "</ol>"
   ]
  },
  {
   "cell_type": "code",
   "execution_count": 24,
   "id": "9c90530d",
   "metadata": {},
   "outputs": [
    {
     "name": "stdout",
     "output_type": "stream",
     "text": [
      "1280\n"
     ]
    }
   ],
   "source": [
    "print(0x500)"
   ]
  },
  {
   "cell_type": "markdown",
   "id": "352faa95",
   "metadata": {},
   "source": [
    "<ol start=\"7\">  \n",
    "     <li>Відправив код на <a href=\"https://github.com/SquireUA/PythonLabs.git\">GitHub</a></li>\n",
    "</ol>"
   ]
  },
  {
   "cell_type": "markdown",
   "id": "d48754ae",
   "metadata": {},
   "source": [
    "<h1 align=\"center\">Контрольні запитання</h1>"
   ]
  },
  {
   "cell_type": "markdown",
   "id": "3e91859c",
   "metadata": {},
   "source": [
    "<ol>\n",
    "    <li><b>Записати ієрархію операторів.</b></li>\n",
    "    <ul>\n",
    "        <li><i>+</i>&nbsp;,&nbsp;<i>-</i>&nbsp;унарні</li>\n",
    "        <li><i>**</i></li>\n",
    "        <li><i>*</i>&nbsp;,&nbsp;<i>%</i>&nbsp;,&nbsp;<i>/</i></li>\n",
    "        <li><i>+</i>&nbsp;,&nbsp;<i>-</i>&nbsp;бінарні</li>\n",
    "    </ul>\n",
    "    <li><b>Записти на Python обчислення виразу $3^{3^4}$.</b></li>"
   ]
  },
  {
   "cell_type": "code",
   "execution_count": 25,
   "id": "b4900fa7",
   "metadata": {},
   "outputs": [
    {
     "name": "stdout",
     "output_type": "stream",
     "text": [
      "443426488243037769948249630619149892803\n"
     ]
    }
   ],
   "source": [
    "print(3**3**4)"
   ]
  },
  {
   "cell_type": "markdown",
   "id": "05f1aa62",
   "metadata": {},
   "source": [
    "<ol start=\"3\">\n",
    "    <li><b>Що робить escape-символ <i>\\n</i> при виводі на екран функцією <i>print()</i>?</b><br>Переводить строку на новий рядок</li>\n",
    "</ol>"
   ]
  },
  {
   "cell_type": "code",
   "execution_count": null,
   "id": "ced27c0a",
   "metadata": {},
   "outputs": [],
   "source": []
  }
 ],
 "metadata": {
  "kernelspec": {
   "display_name": "Python 3 (ipykernel)",
   "language": "python",
   "name": "python3"
  },
  "language_info": {
   "codemirror_mode": {
    "name": "ipython",
    "version": 3
   },
   "file_extension": ".py",
   "mimetype": "text/x-python",
   "name": "python",
   "nbconvert_exporter": "python",
   "pygments_lexer": "ipython3",
   "version": "3.10.9"
  }
 },
 "nbformat": 4,
 "nbformat_minor": 5
}
