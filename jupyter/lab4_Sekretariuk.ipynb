{
 "cells": [
  {
   "cell_type": "markdown",
   "id": "381bbcee",
   "metadata": {},
   "source": [
    "<a href=\"https://github.com/SquireUA\">Секретарюк Валерій</a>, 2023"
   ]
  },
  {
   "cell_type": "markdown",
   "id": "5725e462",
   "metadata": {},
   "source": [
    "<h1 align=\"center\">Лабораторна робота №4. Логічні значення. Умовне виконання. Цикли</h1>"
   ]
  },
  {
   "cell_type": "markdown",
   "id": "727e2493",
   "metadata": {},
   "source": [
    "<h2>Завдання 1</h2>"
   ]
  },
  {
   "cell_type": "code",
   "execution_count": null,
   "id": "a3eb1280",
   "metadata": {},
   "outputs": [],
   "source": [
    "n = int(input(\"Enter number: \"))\n",
    "print(n < 100)\n"
   ]
  },
  {
   "cell_type": "markdown",
   "id": "8b068f86",
   "metadata": {},
   "source": [
    "<h2>Завдання 2</h2>"
   ]
  },
  {
   "cell_type": "code",
   "execution_count": null,
   "id": "47e1d338",
   "metadata": {},
   "outputs": [],
   "source": [
    "n1 = float(input(\"Enter number 1: \"))\n",
    "n2 = float(input(\"Enter number 2: \"))\n",
    "\n",
    "if n1 < n2:\n",
    "    print(\"number 1 < number 2\")\n",
    "else:\n",
    "    print(\"number 1 > number 2\")"
   ]
  },
  {
   "cell_type": "markdown",
   "id": "fe676a0f",
   "metadata": {},
   "source": [
    "<h2>Завдання 3</h2>"
   ]
  },
  {
   "cell_type": "code",
   "execution_count": null,
   "id": "97de51c6",
   "metadata": {},
   "outputs": [],
   "source": [
    "sp = input(\"What is the best plant in the world? \\n\")\n",
    "\n",
    "if sp == \"Spathiphyllum\":\n",
    "    print(\"Yes - Spathiphyllum is the best plant ever!\")\n",
    "elif sp == \"spathiphyllum\":\n",
    "    print(\"No, I want a big Spathiphyllum!\")\n",
    "else:\n",
    "    print(\"Spathiphyllum! Not \", sp, \"!\")"
   ]
  },
  {
   "cell_type": "markdown",
   "id": "ec579435",
   "metadata": {},
   "source": [
    "<h2>Завдання 4</h2>"
   ]
  },
  {
   "cell_type": "code",
   "execution_count": null,
   "id": "70ea1ebe",
   "metadata": {},
   "outputs": [],
   "source": [
    "income = float(input(\"Enter the annual income: \"))\n",
    "\n",
    "if income <= 85528:\n",
    "    tax = (income / 100) * 18 - 556.02\n",
    "else:\n",
    "    tax = 14839.02 + (((income - 85528) / 100) * 32)\n",
    "if tax < 0:\n",
    "    tax = 0\n",
    "\n",
    "tax = round(tax, 0)\n",
    "print(\"The tax is:\", tax, \"thalers\")"
   ]
  },
  {
   "cell_type": "markdown",
   "id": "8eb9683e",
   "metadata": {},
   "source": [
    "<h2>Завдання 5</h2>"
   ]
  },
  {
   "cell_type": "code",
   "execution_count": null,
   "id": "2c8bf60e",
   "metadata": {},
   "outputs": [],
   "source": [
    "year = int(input(\"Enter year: \"))\n",
    "\n",
    "if year < 1582:\n",
    "    print(\"Not within the Gregorian calendar period.\")\n",
    "else:\n",
    "    if year % 4 != 0:\n",
    "        print(\"Its Common year\")\n",
    "    else:\n",
    "        if year % 100 != 0:\n",
    "            print(\"Its Leap year\")\n",
    "        elif year % 400 != 0:\n",
    "            print(\"Its Common year\")\n",
    "        else:\n",
    "            print(\"Its Leap year\")\n"
   ]
  },
  {
   "cell_type": "markdown",
   "id": "2565a64a",
   "metadata": {},
   "source": [
    "<h2>Завдання 6</h2>"
   ]
  },
  {
   "cell_type": "code",
   "execution_count": null,
   "id": "671d4f3e",
   "metadata": {},
   "outputs": [],
   "source": [
    "secret_number = 777\n",
    "\n",
    "print(\n",
    "\"\"\"\n",
    "+================================+\n",
    "| Welcome to my game, muggle!    |\n",
    "| Enter an integer number        |\n",
    "| and guess what number I've     |\n",
    "| picked for you.                |\n",
    "+================================+\n",
    "\"\"\")\n",
    "while 1:\n",
    "    number = int(input(\"Enter secret number: \"))\n",
    "    if number != secret_number:\n",
    "        print(\"Ха-ха! Ви застрягли у моїй петлі!\")\n",
    "    else:\n",
    "        print(\"Молодець, магле! Тепер ти вільний\")\n",
    "        break\n"
   ]
  },
  {
   "cell_type": "markdown",
   "id": "5a56978d",
   "metadata": {},
   "source": [
    "<h2>Завдання 7</h2>"
   ]
  },
  {
   "cell_type": "code",
   "execution_count": null,
   "id": "d6ee7ffd",
   "metadata": {},
   "outputs": [],
   "source": [
    "for i in range(5):\n",
    "    print(i + 1, \" Mississippi\")\n",
    "    time.sleep(1)\n",
    "print(\"Ready or not, here I come!\")"
   ]
  },
  {
   "cell_type": "markdown",
   "id": "286471f0",
   "metadata": {},
   "source": [
    "<h2>Завдання 8</h2>"
   ]
  },
  {
   "cell_type": "code",
   "execution_count": null,
   "id": "09f9a52b",
   "metadata": {},
   "outputs": [],
   "source": [
    "while 1:\n",
    "    word = (input(\"enter word: \"))\n",
    "    if word != \"chupacabra\":\n",
    "        break\n",
    "print(\"You've successfully left the loop.\")"
   ]
  },
  {
   "cell_type": "markdown",
   "id": "ad8f538f",
   "metadata": {},
   "source": [
    "<h2>Завдання 9</h2>"
   ]
  },
  {
   "cell_type": "code",
   "execution_count": null,
   "id": "5c1fc514",
   "metadata": {},
   "outputs": [],
   "source": [
    "user_word = input(\"Enter word: \")\n",
    "user_word = user_word.upper()\n",
    "\n",
    "for i in range(len(user_word)):\n",
    "    if user_word[i] == \"A\":\n",
    "        continue\n",
    "    elif user_word[i] == \"O\":\n",
    "        continue\n",
    "    elif user_word[i] == \"I\":\n",
    "        continue\n",
    "    elif user_word[i] == \"U\":\n",
    "        continue\n",
    "    elif user_word[i] == \"E\":\n",
    "        continue\n",
    "    print(user_word[i])\n"
   ]
  },
  {
   "cell_type": "markdown",
   "id": "2ed73eb9",
   "metadata": {},
   "source": [
    "<h2>Завдання 10</h2>"
   ]
  },
  {
   "cell_type": "code",
   "execution_count": null,
   "id": "cc56e400",
   "metadata": {},
   "outputs": [],
   "source": [
    "word_without_vowels = \"\"\n",
    "user_word = input(\"Enter word: \")\n",
    "user_word = user_word.upper()\n",
    "\n",
    "for i in range(len(user_word)):\n",
    "    if user_word[i] == \"A\":\n",
    "        continue\n",
    "    elif user_word[i] == \"O\":\n",
    "        continue\n",
    "    elif user_word[i] == \"I\":\n",
    "        continue\n",
    "    elif user_word[i] == \"U\":\n",
    "        continue\n",
    "    elif user_word[i] == \"E\":\n",
    "        continue\n",
    "    word_without_vowels += user_word[i]\n",
    "print(word_without_vowels)\n"
   ]
  },
  {
   "cell_type": "markdown",
   "id": "daa0c4ba",
   "metadata": {},
   "source": [
    "<h2>Завдання 11</h2>"
   ]
  },
  {
   "cell_type": "code",
   "execution_count": null,
   "id": "dd11d3b7",
   "metadata": {},
   "outputs": [],
   "source": [
    "block = int(input(\"Enter number of вricks: \"))\n",
    "height = 0\n",
    "count = 1\n",
    "while count <= block:\n",
    "    block -= count\n",
    "    count += 1\n",
    "    height += 1\n",
    "print(\"The height of the pyramid: \", height)"
   ]
  },
  {
   "cell_type": "markdown",
   "id": "81324751",
   "metadata": {},
   "source": [
    "<h2>Завдання 12</h2>"
   ]
  },
  {
   "cell_type": "code",
   "execution_count": null,
   "id": "0daacc3f",
   "metadata": {},
   "outputs": [],
   "source": [
    "step = 0\n",
    "while 1:\n",
    "    c0 = int(input(\"Enter int not negative number:\"))\n",
    "    if c0 <= 0:\n",
    "        print(\"Number is not correct! Try again\")\n",
    "    else:\n",
    "        break\n",
    "while c0 != 1:\n",
    "    if c0 % 2 == 0:\n",
    "        c0 = c0 / 2\n",
    "    else:\n",
    "        c0 = 3 * c0 + 1\n",
    "    print(int(c0))\n",
    "    step += 1\n",
    "print(\"steps = \", step)"
   ]
  },
  {
   "cell_type": "markdown",
   "id": "71430526",
   "metadata": {},
   "source": [
    "<h1 align=\"center\">Контрольні запитання</h1>"
   ]
  },
  {
   "cell_type": "markdown",
   "id": "090cb3ba",
   "metadata": {},
   "source": [
    "<ol>\n",
    "    <li>False <br> True</li>\n",
    "    <li>False <br> True</li>\n",
    "    <li>True <br> False</li>\n",
    "</ol>"
   ]
  }
 ],
 "metadata": {
  "kernelspec": {
   "display_name": "Python 3 (ipykernel)",
   "language": "python",
   "name": "python3"
  },
  "language_info": {
   "codemirror_mode": {
    "name": "ipython",
    "version": 3
   },
   "file_extension": ".py",
   "mimetype": "text/x-python",
   "name": "python",
   "nbconvert_exporter": "python",
   "pygments_lexer": "ipython3",
   "version": "3.10.9"
  }
 },
 "nbformat": 4,
 "nbformat_minor": 5
}
