{
 "cells": [
  {
   "cell_type": "markdown",
   "id": "783efb90",
   "metadata": {},
   "source": [
    "<a href=\"https://github.com/SquireUA\">Секретарюк Валерій</a>, 2023"
   ]
  },
  {
   "cell_type": "markdown",
   "id": "11109639",
   "metadata": {},
   "source": [
    "<h1 align=\"center\">Лабораторна робота №12. Об’єктно-орієнтоване програмування. Частина ІІ</h1>"
   ]
  },
  {
   "cell_type": "markdown",
   "id": "9e6ec960",
   "metadata": {},
   "source": [
    " <h2>Приклад 1</h2>"
   ]
  },
  {
   "cell_type": "code",
   "execution_count": 1,
   "id": "1441be66",
   "metadata": {},
   "outputs": [
    {
     "name": "stdout",
     "output_type": "stream",
     "text": [
      "23:59:59\n",
      "00:00:00\n",
      "23:59:59\n"
     ]
    }
   ],
   "source": [
    "class Timer:\n",
    "    def __init__(self, hours=0, minutes=0, seconds=0):\n",
    "        self._hours = hours\n",
    "        self._minutes = minutes\n",
    "        self._seconds = seconds\n",
    "\n",
    "    def __str__(self):\n",
    "        return f\"{self._format_time(self._hours)}:{self._format_time(self._minutes)}:{self._format_time(self._seconds)}\"\n",
    "\n",
    "    def _format_time(self, time):\n",
    "        return str(time).zfill(2)\n",
    "\n",
    "    def next_second(self):\n",
    "        self._seconds += 1\n",
    "        if self._seconds == 60:\n",
    "            self._seconds = 0\n",
    "            self._minutes += 1\n",
    "            if self._minutes == 60:\n",
    "                self._minutes = 0\n",
    "                self._hours += 1\n",
    "                if self._hours == 24:\n",
    "                    self._hours = 0\n",
    "\n",
    "    def prev_second(self):\n",
    "        self._seconds -= 1\n",
    "        if self._seconds == -1:\n",
    "            self._seconds = 59\n",
    "            self._minutes -= 1\n",
    "            if self._minutes == -1:\n",
    "                self._minutes = 59\n",
    "                self._hours -= 1\n",
    "                if self._hours == -1:\n",
    "                    self._hours = 23\n",
    "\n",
    "\n",
    "timer = Timer(23, 59, 59)\n",
    "print(timer)\n",
    "timer.next_second()\n",
    "print(timer)\n",
    "timer.prev_second()\n",
    "print(timer)"
   ]
  },
  {
   "cell_type": "markdown",
   "id": "374d357a",
   "metadata": {},
   "source": [
    " <h2>Приклад 2</h2>"
   ]
  },
  {
   "cell_type": "code",
   "execution_count": 2,
   "id": "cae22836",
   "metadata": {},
   "outputs": [
    {
     "name": "stdout",
     "output_type": "stream",
     "text": [
      "Mon\n",
      "Tue\n",
      "Sun\n",
      "Sorry, I can't serve your request.\n"
     ]
    }
   ],
   "source": [
    "class WeekDayError(Exception):\n",
    "    pass\n",
    "\n",
    "\n",
    "class Weeker:\n",
    "    DAYS = ['Mon', 'Tue', 'Wed', 'Thu', 'Fri', 'Sat', 'Sun']\n",
    "\n",
    "    def __init__(self, day):\n",
    "        if day not in self.DAYS:\n",
    "            raise WeekDayError\n",
    "        self._day = day\n",
    "\n",
    "    def __str__(self):\n",
    "        return self._day\n",
    "\n",
    "    def add_days(self, n):\n",
    "        current_index = self.DAYS.index(self._day)\n",
    "        new_index = (current_index + n) % 7\n",
    "        self._day = self.DAYS[new_index]\n",
    "\n",
    "    def subtract_days(self, n):\n",
    "        current_index = self.DAYS.index(self._day)\n",
    "        new_index = (current_index - n) % 7\n",
    "        self._day = self.DAYS[new_index]\n",
    "\n",
    "\n",
    "try:\n",
    "    weekday = Weeker('Mon')\n",
    "    print(weekday)\n",
    "    weekday.add_days(15)\n",
    "    print(weekday)\n",
    "    weekday.subtract_days(23)\n",
    "    print(weekday)\n",
    "    weekday = Weeker('Monday')\n",
    "except WeekDayError:\n",
    "    print(\"Sorry, I can't serve your request.\")"
   ]
  },
  {
   "cell_type": "markdown",
   "id": "0d7a833e",
   "metadata": {},
   "source": [
    " <h2>Приклад 3</h2>"
   ]
  },
  {
   "cell_type": "code",
   "execution_count": 3,
   "id": "7219ca33",
   "metadata": {},
   "outputs": [
    {
     "name": "stdout",
     "output_type": "stream",
     "text": [
      "1.4142135623730951\n",
      "1.4142135623730951\n"
     ]
    }
   ],
   "source": [
    "import math\n",
    "\n",
    "\n",
    "class Point:\n",
    "    def __init__(self, x=0.0, y=0.0):\n",
    "        self._x = x\n",
    "        self._y = y\n",
    "\n",
    "    def getx(self):\n",
    "        return self._x\n",
    "\n",
    "    def gety(self):\n",
    "        return self._y\n",
    "\n",
    "    def distance_from_xy(self, x, y):\n",
    "        return math.hypot(self._x - x, self._y - y)\n",
    "\n",
    "    def distance_from_point(self, point):\n",
    "        return self.distance_from_xy(point.getx(), point.gety())\n",
    "\n",
    "\n",
    "point1 = Point(0, 0)\n",
    "point2 = Point(1, 1)\n",
    "print(point1.distance_from_point(point2))\n",
    "print(point2.distance_from_xy(2, 0))"
   ]
  },
  {
   "cell_type": "markdown",
   "id": "45814c7a",
   "metadata": {},
   "source": [
    " <h2>Завдання 1</h2>"
   ]
  },
  {
   "cell_type": "code",
   "execution_count": 4,
   "id": "b251fc48",
   "metadata": {},
   "outputs": [
    {
     "name": "stdout",
     "output_type": "stream",
     "text": [
      "3.414213562373095\n"
     ]
    }
   ],
   "source": [
    "class Triangle:\n",
    "    def __init__(self, vertice1, vertice2, vertice3):\n",
    "        self.point1 = vertice1\n",
    "        self.point2 = vertice2\n",
    "        self.point3 = vertice3\n",
    "\n",
    "    def perimeter(self):\n",
    "        return self.point1.distance_from_point(self.point2) + self.point2.distance_from_point(self.point3) + self.point1.distance_from_point(self.point3)\n",
    "\n",
    "\n",
    "\n",
    "\n",
    "\n",
    "triangle = Triangle(Point(0, 0), Point(1, 0), Point(0, 1))\n",
    "print(triangle.perimeter())"
   ]
  },
  {
   "cell_type": "markdown",
   "id": "70b256f6",
   "metadata": {},
   "source": [
    "<h1 align=\"center\">Контрольні запитання</h1>"
   ]
  },
  {
   "cell_type": "markdown",
   "id": "56bb5457",
   "metadata": {},
   "source": [
    "<ol>\n",
    "    <li>Dobermann says: Woof! Stay where you are, Mister Intruder!<br>Collie says: Woof! Don't run away, Little Lamb!</li>\n",
    "    <li>True False<br>False True</li>\n",
    "</ol>"
   ]
  }
 ],
 "metadata": {
  "kernelspec": {
   "display_name": "Python 3 (ipykernel)",
   "language": "python",
   "name": "python3"
  },
  "language_info": {
   "codemirror_mode": {
    "name": "ipython",
    "version": 3
   },
   "file_extension": ".py",
   "mimetype": "text/x-python",
   "name": "python",
   "nbconvert_exporter": "python",
   "pygments_lexer": "ipython3",
   "version": "3.10.9"
  }
 },
 "nbformat": 4,
 "nbformat_minor": 5
}
