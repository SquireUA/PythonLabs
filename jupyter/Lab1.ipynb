{
 "cells": [
  {
   "cell_type": "markdown",
   "id": "b676f939",
   "metadata": {},
   "source": [
    "<p>Sekretariuk Valeiy, 2023</p>"
   ]
  },
  {
   "cell_type": "markdown",
   "id": "1584a894",
   "metadata": {},
   "source": [
    "<h2 align = \"center\">Лабораторна робота №1. Інсталяція та налаштування Python-середовища</h2>"
   ]
  },
  {
   "cell_type": "markdown",
   "id": "e64b269b",
   "metadata": {},
   "source": [
    "<ol>\n",
    "    <li>Завантажив і встановив Python:<img src=\"image/1.png\"></li>\n",
    "    <li>Завантажив, становив і налаштував IDE PyCharm:<img src=\"image/2.png\"></li>\n",
    "    <li>Завантажив, встановив і налаштував систему контроля версій Git на вашому робочому комп'ютері:<img src=\"image/3.png\"></li>\n",
    "    <li>Створив акаунт на GitHub та створив в ньому новий проєкт з іменем:<img src=\"image/4.png\"></li>\n",
    "    <li>Налаштував зв'язок PyCharm з Git:<img src=\"image/5.png\"></li>\n",
    "    <li>Налаштував зв'язок PyCharm з віддаленим репозиторієм на GitHub:<img src=\"image/6.png\"></li>\n",
    "    <li>Створив файл <b>lab_1_Sekretariuk.py</b> з кодом, який виводить фразу <b>\"Привіт, Секретарюк\"</b><img src=\"image/7.png\"></li>\n",
    "    <li>Закомітив файл у локальний репозиторій за допомогою команди <b>git commit -m \"add file lab_1_Sekretariuk\"</b></li>\n",
    "    <li>Відправив поточну версію Git-проєкта у віддалений репозиторій на GitHub:<img src=\"image/9.png\"></li>\n",
    "    <li><a href = \"https://github.com/SquireUA/PythonLabs.git\">роєкт GitHub</a></li>    \n",
    "</ol>"
   ]
  },
  {
   "cell_type": "markdown",
   "id": "c65d05df",
   "metadata": {},
   "source": [
    "<h2 align=\"center\">Контрольні запитання</h2>"
   ]
  },
  {
   "cell_type": "markdown",
   "id": "c03a8169",
   "metadata": {},
   "source": [
    "<ol>\n",
    "    <li>У чому відмінність інтерпретатора від компілятора? Python - компілятор чи інтерпретатор?<br> Компілятор створює окремий exe-файл, який запускається окремо від програми де пишеться код, а інтерпретатор запускає код в собі. Python  - це інтерпретатор.</li>\n",
    "    <li>Що таке IDE PyCharm?<br>PyCharm — інтегроване середовище розробки для мови програмування Python. Надає засоби для аналізу коду, графічний зневаджувач, інструмент для запуску юніт-тестів і підтримує веброзробку на Django. PyCharm розроблена чеською компанією JetBrains на основі IntelliJ IDEA.</li>\n",
    "    <li>Що таке система контроля версій (СКВ) і для чого вона призначена? У чому принципова відмінність СКВ svn та git?<br>Система контролю версіями — програмний інструмент для керування версіями одиниці інформації. Використовуються при розробці програмного забезпечення для відстеження, документування та контролю над поступовими змінами в електронних документах: у сирцевому коді застосунків, кресленнях, електронних моделях та інших документах, над змінами яких одночасно працюють декілька людей.<br>Git вважається розподіленою системою, на відміну від Subversion. Дозволяє правити та оновлювати файли сайту з урахуванням змін, які були внесені іншими, тому ця система особливо зручна, коли над одним проєктом працює група розробників.\n",
    "</li>\n",
    "    <li>Що відбувається при виконанні команди git add .?<br>Додаються всі новостворені файли у індекс\n",
    "</li>\n",
    "    <li>Що відбувається при виконанні команди git commit?<br>Додавання змін у локальний Git-репозиторій</li>\n",
    "    <li>Якою git-командою виконується розміщення локальної копії git-репозиторію проєкта на віддаленому, що знаходиться на GitHub?<br>git push -u origin master</li>\n",
    "</ol>"
   ]
  },
  {
   "cell_type": "code",
   "execution_count": null,
   "id": "c0cb1558",
   "metadata": {},
   "outputs": [],
   "source": []
  },
  {
   "cell_type": "code",
   "execution_count": null,
   "id": "b608e518",
   "metadata": {},
   "outputs": [],
   "source": []
  }
 ],
 "metadata": {
  "kernelspec": {
   "display_name": "Python 3 (ipykernel)",
   "language": "python",
   "name": "python3"
  },
  "language_info": {
   "codemirror_mode": {
    "name": "ipython",
    "version": 3
   },
   "file_extension": ".py",
   "mimetype": "text/x-python",
   "name": "python",
   "nbconvert_exporter": "python",
   "pygments_lexer": "ipython3",
   "version": "3.10.9"
  }
 },
 "nbformat": 4,
 "nbformat_minor": 5
}
