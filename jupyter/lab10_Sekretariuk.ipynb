{
 "cells": [
  {
   "cell_type": "markdown",
   "id": "bc039b54",
   "metadata": {},
   "source": [
    "<a href=\"https://github.com/SquireUA\">Секретарюк Валерій</a>, 2023"
   ]
  },
  {
   "cell_type": "markdown",
   "id": "6f5169dd",
   "metadata": {},
   "source": [
    "<h1 align=\"center\">Лабораторна робота №10. Рядки. Методи рядків і списків. Винятки. Частина ІІ</h1>"
   ]
  },
  {
   "cell_type": "markdown",
   "id": "d7011dd1",
   "metadata": {},
   "source": [
    "<h2>Завдання 1</h2>"
   ]
  },
  {
   "cell_type": "code",
   "execution_count": null,
   "id": "bde01c0c",
   "metadata": {},
   "outputs": [],
   "source": [
    "word = input(\"Введіть слово: \")\n",
    "\n",
    "symbols = input(\"Введіть набор символів: \")\n",
    "\n",
    "i = 0\n",
    "\n",
    "for char in symbols:\n",
    "    if i < len(word):\n",
    "        if char == word[i]:\n",
    "            i += 1\n",
    "    else:\n",
    "        break\n",
    "\n",
    "if i == len(word):\n",
    "    print(\"Yes\")\n",
    "else:\n",
    "    print(\"No\")\n"
   ]
  },
  {
   "cell_type": "markdown",
   "id": "21a759ba",
   "metadata": {},
   "source": [
    "<h2>Завдання 2</h2>"
   ]
  },
  {
   "cell_type": "code",
   "execution_count": null,
   "id": "ccd36b3a",
   "metadata": {},
   "outputs": [],
   "source": [
    "while True:\n",
    "    try:\n",
    "        date = int(input(\"Введіть дату народження у форматі YYYYMMDD:\"))\n",
    "        break\n",
    "    except ValueError:\n",
    "        print(\"Ви не правильно ввели дату народження. спробуйте ще раз\")\n",
    "\n",
    "\n",
    "while True:\n",
    "    sum = 0\n",
    "    for simbol in date:\n",
    "        sum += int(simbol)\n",
    "\n",
    "    date = str(sum)\n",
    "\n",
    "    if len(date) == 1:\n",
    "        break\n",
    "\n",
    "print(sum)\n"
   ]
  },
  {
   "cell_type": "markdown",
   "id": "35a92a86",
   "metadata": {},
   "source": [
    "<h2>Завдання 3</h2>"
   ]
  },
  {
   "cell_type": "code",
   "execution_count": null,
   "id": "442cdf3c",
   "metadata": {},
   "outputs": [],
   "source": [
    "while True:\n",
    "    try:\n",
    "        number = int(input(\"Введіть ціле число: \"))\n",
    "        break\n",
    "    except ValueError:\n",
    "        print(\"Ви не ввели ціле число. Спробуйте знову.\")\n",
    "\n",
    "while True:\n",
    "    mini = int(input(\"Введіть мінімальне значення: \"))\n",
    "    maxi = int(input(\"Введіть максимальне значення: \"))\n",
    "    if mini > maxi:\n",
    "        print(\"мінімальне значення більше за максимальне. Спробуйте ще раз\")\n",
    "        continue\n",
    "    if mini <= number <= maxi:\n",
    "        print(\"Число \", number, \" знаходиться в діапазоні(\", mini, \",\", maxi, \")\")\n",
    "        break\n",
    "    else:\n",
    "        print(\"Число \", number, \"не знаходиться в діапазоні(\", mini, \",\", maxi, \"). Спробуйте ще раз\")"
   ]
  },
  {
   "cell_type": "markdown",
   "id": "404b27a5",
   "metadata": {},
   "source": [
    "<h1 align=\"center\">Контрольні запитання</h1>"
   ]
  },
  {
   "cell_type": "markdown",
   "id": "e6e20eea",
   "metadata": {},
   "source": [
    "<ol>\n",
    "    <li>We failed<br>We`re done</li>\n",
    "    <li>zero</li>\n",
    "</ol>"
   ]
  }
 ],
 "metadata": {
  "kernelspec": {
   "display_name": "Python 3 (ipykernel)",
   "language": "python",
   "name": "python3"
  },
  "language_info": {
   "codemirror_mode": {
    "name": "ipython",
    "version": 3
   },
   "file_extension": ".py",
   "mimetype": "text/x-python",
   "name": "python",
   "nbconvert_exporter": "python",
   "pygments_lexer": "ipython3",
   "version": "3.10.9"
  }
 },
 "nbformat": 4,
 "nbformat_minor": 5
}
