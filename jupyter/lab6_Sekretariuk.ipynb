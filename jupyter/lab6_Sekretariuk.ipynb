{
 "cells": [
  {
   "cell_type": "markdown",
   "id": "bbc4e657",
   "metadata": {},
   "source": [
    "<a href=\"https://github.com/SquireUA\">Секретарюк Валерій</a>, 2023"
   ]
  },
  {
   "cell_type": "markdown",
   "id": "538a8c0a",
   "metadata": {},
   "source": [
    "<h1 align=\"center\">Лабораторна робота №6. Функції</h1>"
   ]
  },
  {
   "cell_type": "markdown",
   "id": "0939d964",
   "metadata": {},
   "source": [
    "<h2>Завдання 1</h2>"
   ]
  },
  {
   "cell_type": "code",
   "execution_count": 4,
   "id": "5bc41fc5",
   "metadata": {},
   "outputs": [
    {
     "name": "stdout",
     "output_type": "stream",
     "text": [
      "1900 ->Failed\n",
      "2000 ->OK\n",
      "2016 ->OK\n",
      "1987 ->Failed\n"
     ]
    }
   ],
   "source": [
    "def is_year_leap(year):\n",
    "    if year < 1582:\n",
    "        return False\n",
    "    else:\n",
    "        if year % 4 != 0:\n",
    "            return False\n",
    "        else:\n",
    "            if year % 100 != 0:\n",
    "                return True\n",
    "            elif year % 400 != 0:\n",
    "                return False\n",
    "            else:\n",
    "                return True\n",
    "\n",
    "test_data = [1900, 2000, 2016, 1987]\n",
    "test_results = [False, True, True, False]\n",
    "for i in range(len(test_data)):\n",
    "  yr = test_data[i]\n",
    "  print(yr,\"->\",end=\"\")\n",
    "  result = is_year_leap(yr)\n",
    "  if result:\n",
    "      print(\"OK\")\n",
    "  else:\n",
    "      print(\"Failed\")"
   ]
  },
  {
   "cell_type": "markdown",
   "id": "ea212a43",
   "metadata": {},
   "source": [
    "<h2>Завдання 2</h2>"
   ]
  },
  {
   "cell_type": "code",
   "execution_count": 5,
   "id": "7ba66167",
   "metadata": {},
   "outputs": [
    {
     "name": "stdout",
     "output_type": "stream",
     "text": [
      "1900 ->Failed\n",
      "2000 ->OK\n",
      "2016 ->OK\n",
      "1987 ->Failed\n"
     ]
    }
   ],
   "source": [
    "def is_year_leap(year):\n",
    "    if year < 1582:\n",
    "        return False\n",
    "    else:\n",
    "        if year % 4 != 0:\n",
    "            return False\n",
    "        else:\n",
    "            if year % 100 != 0:\n",
    "                return True\n",
    "            elif year % 400 != 0:\n",
    "                return False\n",
    "            else:\n",
    "                return True\n",
    "\n",
    "test_data = [1900, 2000, 2016, 1987]\n",
    "test_results = [False, True, True, False]\n",
    "for i in range(len(test_data)):\n",
    "  yr = test_data[i]\n",
    "  print(yr,\"->\",end=\"\")\n",
    "  result = is_year_leap(yr)\n",
    "  if result:\n",
    "      print(\"OK\")\n",
    "  else:\n",
    "      print(\"Failed\")"
   ]
  },
  {
   "cell_type": "markdown",
   "id": "c546340d",
   "metadata": {},
   "source": [
    "<h2>Завдання 3</h2>"
   ]
  },
  {
   "cell_type": "code",
   "execution_count": 6,
   "id": "75194bf7",
   "metadata": {},
   "outputs": [
    {
     "ename": "NameError",
     "evalue": "name 'days_in_month' is not defined",
     "output_type": "error",
     "traceback": [
      "\u001b[1;31m---------------------------------------------------------------------------\u001b[0m",
      "\u001b[1;31mNameError\u001b[0m                                 Traceback (most recent call last)",
      "Cell \u001b[1;32mIn[6], line 9\u001b[0m\n\u001b[0;32m      6\u001b[0m         count \u001b[38;5;241m+\u001b[39m\u001b[38;5;241m=\u001b[39m days_in_month(year, i)\n\u001b[0;32m      7\u001b[0m     \u001b[38;5;28;01mreturn\u001b[39;00m count \u001b[38;5;241m+\u001b[39m day\n\u001b[1;32m----> 9\u001b[0m \u001b[38;5;28mprint\u001b[39m(\u001b[43mday_of_year\u001b[49m\u001b[43m(\u001b[49m\u001b[38;5;241;43m1\u001b[39;49m\u001b[43m,\u001b[49m\u001b[38;5;241;43m11\u001b[39;49m\u001b[43m,\u001b[49m\u001b[38;5;241;43m2002\u001b[39;49m\u001b[43m)\u001b[49m)\n",
      "Cell \u001b[1;32mIn[6], line 2\u001b[0m, in \u001b[0;36mday_of_year\u001b[1;34m(day, month, year)\u001b[0m\n\u001b[0;32m      1\u001b[0m \u001b[38;5;28;01mdef\u001b[39;00m \u001b[38;5;21mday_of_year\u001b[39m(day, month, year):\n\u001b[1;32m----> 2\u001b[0m     \u001b[38;5;28;01mif\u001b[39;00m year \u001b[38;5;241m<\u001b[39m \u001b[38;5;241m1582\u001b[39m \u001b[38;5;129;01mor\u001b[39;00m month \u001b[38;5;241m>\u001b[39m \u001b[38;5;241m12\u001b[39m \u001b[38;5;129;01mor\u001b[39;00m \u001b[43mdays_in_month\u001b[49m(year,month) \u001b[38;5;241m<\u001b[39m day:\n\u001b[0;32m      3\u001b[0m         \u001b[38;5;28;01mreturn\u001b[39;00m\n\u001b[0;32m      4\u001b[0m     count \u001b[38;5;241m=\u001b[39m \u001b[38;5;241m0\u001b[39m\n",
      "\u001b[1;31mNameError\u001b[0m: name 'days_in_month' is not defined"
     ]
    }
   ],
   "source": [
    "def day_of_year(day, month, year):\n",
    "    if year < 1582 or month > 12 or days_in_month(year,month) < day:\n",
    "        return\n",
    "    count = 0\n",
    "    for i in range(1, month):\n",
    "        count += days_in_month(year, i)\n",
    "    return count + day\n",
    "\n",
    "print(day_of_year(1,11,2002))"
   ]
  },
  {
   "cell_type": "markdown",
   "id": "eb970a45",
   "metadata": {},
   "source": [
    "<h2>Завдання 4</h2>"
   ]
  },
  {
   "cell_type": "code",
   "execution_count": null,
   "id": "d6bb2d73",
   "metadata": {},
   "outputs": [],
   "source": [
    "def is_prime(num):\n",
    "    flag = True\n",
    "    for i in range(2, num):\n",
    "        if num % i == 0:\n",
    "            flag = False\n",
    "            break\n",
    "    return flag\n",
    "\n",
    "for i in range(1, 20):\n",
    "   if is_prime(i + 1):\n",
    "           print(i + 1, end=\" \")\n",
    "print()"
   ]
  },
  {
   "cell_type": "markdown",
   "id": "11b133d4",
   "metadata": {},
   "source": [
    "<h2>Завдання 5</h2>"
   ]
  },
  {
   "cell_type": "code",
   "execution_count": null,
   "id": "288aba1c",
   "metadata": {},
   "outputs": [],
   "source": [
    "def liters_100km_to_miles_gallon(liters):\n",
    "    galon = liters / 3.785411784\n",
    "    miles = 100_000 / 1609.344\n",
    "    return miles / galon\n",
    "\n",
    "def miles_gallon_to_liters_100km(miles):\n",
    "    liters = 3.785411784\n",
    "    kilometers = miles * 1609.344\n",
    "    return liters / kilometers\n",
    "\n",
    "print(liters_100km_to_miles_gallon(3.9))\n",
    "print(liters_100km_to_miles_gallon(7.5))\n",
    "print(liters_100km_to_miles_gallon(10.))\n",
    "print(miles_gallon_to_liters_100km(60.3))\n",
    "print(miles_gallon_to_liters_100km(31.4))\n",
    "print(miles_gallon_to_liters_100km(23.5))\n"
   ]
  },
  {
   "cell_type": "markdown",
   "id": "5dd6293d",
   "metadata": {},
   "source": [
    "<h2>Завдання 6</h2>"
   ]
  },
  {
   "cell_type": "code",
   "execution_count": 7,
   "id": "d96859fc",
   "metadata": {},
   "outputs": [
    {
     "name": "stdout",
     "output_type": "stream",
     "text": [
      "True\n"
     ]
    }
   ],
   "source": [
    "def modul(num):\n",
    "    if num < 0:\n",
    "        return num * -1\n",
    "    else:\n",
    "        return num\n",
    "\n",
    "def is_a_triangle(a, b, c):\n",
    "    if modul(a - b) < c < a + b and modul(a - c) < b < a + c and modul(c - b) < a < c + b:\n",
    "        return True\n",
    "    else:\n",
    "        return False\n",
    "    \n",
    "\n",
    "print(is_a_triangle(3, 3, 3))"
   ]
  },
  {
   "cell_type": "markdown",
   "id": "49df6a78",
   "metadata": {},
   "source": [
    "<h2>Завдання 7</h2>"
   ]
  },
  {
   "cell_type": "code",
   "execution_count": 8,
   "id": "4026945a",
   "metadata": {},
   "outputs": [
    {
     "name": "stdout",
     "output_type": "stream",
     "text": [
      "True\n"
     ]
    }
   ],
   "source": [
    "def is_a_right_triangle(a, b, c):\n",
    "    if is_a_triangle(a, b, c):\n",
    "        if a**2 + b**2 == c**2 or a**2 + c**2 == b**2 or c**2 + b**2 == a**2:\n",
    "            return True\n",
    "        else:\n",
    "            return False\n",
    "    else:\n",
    "        return False\n",
    "\n",
    "print(is_a_right_triangle(3,4,5))"
   ]
  },
  {
   "cell_type": "markdown",
   "id": "b81143b8",
   "metadata": {},
   "source": [
    "<h1 align=\"center\">Контрольні запитання</h1>"
   ]
  },
  {
   "cell_type": "markdown",
   "id": "bdeb7384",
   "metadata": {},
   "source": [
    "<ol>\n",
    "    <li>Виведе помилку про неіснування зміної alt</li>\n",
    "    <li>2 <br> 1</li>\n",
    "    <li>2 <br> 3</li>\n",
    "    <li>2 <br> 2</li>\n",
    "</ol>"
   ]
  }
 ],
 "metadata": {
  "kernelspec": {
   "display_name": "Python 3 (ipykernel)",
   "language": "python",
   "name": "python3"
  },
  "language_info": {
   "codemirror_mode": {
    "name": "ipython",
    "version": 3
   },
   "file_extension": ".py",
   "mimetype": "text/x-python",
   "name": "python",
   "nbconvert_exporter": "python",
   "pygments_lexer": "ipython3",
   "version": "3.10.9"
  }
 },
 "nbformat": 4,
 "nbformat_minor": 5
}
