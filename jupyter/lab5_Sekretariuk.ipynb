{
 "cells": [
  {
   "cell_type": "markdown",
   "id": "bbc4e657",
   "metadata": {},
   "source": [
    "<a href=\"https://github.com/SquireUA\">Секретарюк Валерій</a>, 2023"
   ]
  },
  {
   "cell_type": "markdown",
   "id": "538a8c0a",
   "metadata": {},
   "source": [
    "<h1 align=\"center\">Лабораторна робота №5. Списки</h1>"
   ]
  },
  {
   "cell_type": "markdown",
   "id": "0939d964",
   "metadata": {},
   "source": [
    "<h2>Завдання 1</h2>"
   ]
  },
  {
   "cell_type": "code",
   "execution_count": null,
   "id": "5bc41fc5",
   "metadata": {},
   "outputs": [],
   "source": [
    "array = [1, 2, 3, 4, 5]\n",
    "while 1:\n",
    "    ch = int(input(\"Enter number of element you want to change (from 1 to 5): \"))\n",
    "    if ch >= 1 & ch <= 5:\n",
    "        break\n",
    "    else:\n",
    "        print(\"Number isn`t in range from 1 to 5. Try again\")\n",
    "number = int(input(\"Enter number you want change to:\"))\n",
    "\n",
    "array[ch-1] = number\n",
    "\n",
    "del array[-1]\n",
    "\n",
    "print(array)"
   ]
  },
  {
   "cell_type": "markdown",
   "id": "ea212a43",
   "metadata": {},
   "source": [
    "<h2>Завдання 2</h2>"
   ]
  },
  {
   "cell_type": "code",
   "execution_count": null,
   "id": "7ba66167",
   "metadata": {},
   "outputs": [],
   "source": [
    "array = [3, 8, 12, 1, 5, -1]\n",
    "\n",
    "print(array)\n",
    "\n",
    "for i in range(len(array) - 1):\n",
    "    for j in range(len(array) - i - 1):\n",
    "        if array[j] > array[j + 1]:\n",
    "            array[j], array[j + 1] = array[j + 1], array[j]\n",
    "\n",
    "print(array)\n"
   ]
  },
  {
   "cell_type": "markdown",
   "id": "c546340d",
   "metadata": {},
   "source": [
    "<h2>Завдання 3</h2>"
   ]
  },
  {
   "cell_type": "code",
   "execution_count": null,
   "id": "75194bf7",
   "metadata": {},
   "outputs": [],
   "source": [
    "my_list = [1, 2, 4, 4, 1, 4, 2, 6, 2, 9]\n",
    "\n",
    "rep = []\n",
    "for i in range(len(my_list)):\n",
    "    if my_list[i] not in rep:\n",
    "        rep.append(my_list[i])\n",
    "my_list = rep[:]\n",
    "print(\"The list with unique elements only:\")\n",
    "print(my_list)\n"
   ]
  },
  {
   "cell_type": "markdown",
   "id": "eb970a45",
   "metadata": {},
   "source": [
    "<h2>Завдання 4</h2>"
   ]
  },
  {
   "cell_type": "code",
   "execution_count": null,
   "id": "d6bb2d73",
   "metadata": {},
   "outputs": [],
   "source": [
    "chess = [[\"_\" for i in range(8)] for j in range(8)]\n",
    "\n",
    "chess[0][0], chess[0][-1], chess[-1][0], chess[-1][-1] = 'tura', 'tura','tura','tura'\n",
    "\n",
    "print(chess)"
   ]
  },
  {
   "cell_type": "markdown",
   "id": "f3fdda06",
   "metadata": {},
   "source": [
    "<h1 align=\"center\">Контрольні запитання</h1>"
   ]
  },
  {
   "cell_type": "markdown",
   "id": "c4d3a5f2",
   "metadata": {},
   "source": [
    "<ol>\n",
    "    <li>['C']</li>\n",
    "    <li>['B', 'C']</li>\n",
    "    <li>[]</li>\n",
    "    <li>['A','B','C']</li>\n",
    "</ol>"
   ]
  }
 ],
 "metadata": {
  "kernelspec": {
   "display_name": "Python 3 (ipykernel)",
   "language": "python",
   "name": "python3"
  },
  "language_info": {
   "codemirror_mode": {
    "name": "ipython",
    "version": 3
   },
   "file_extension": ".py",
   "mimetype": "text/x-python",
   "name": "python",
   "nbconvert_exporter": "python",
   "pygments_lexer": "ipython3",
   "version": "3.10.9"
  }
 },
 "nbformat": 4,
 "nbformat_minor": 5
}
