{
 "cells": [
  {
   "cell_type": "markdown",
   "id": "6ba1c750",
   "metadata": {},
   "source": [
    "<a href=\"https://github.com/SquireUA\">Секретарюк Валерій</a>, 2023"
   ]
  },
  {
   "cell_type": "markdown",
   "id": "8d00903b",
   "metadata": {},
   "source": [
    "<h1 align=\"center\">Лабораторна робота №3. Змінні. Базові операції вводу/виводу</h1>"
   ]
  },
  {
   "cell_type": "markdown",
   "id": "5ecbdbeb",
   "metadata": {},
   "source": [
    "<h2>Завдання 1</h2>"
   ]
  },
  {
   "cell_type": "code",
   "execution_count": null,
   "id": "a6c72dab",
   "metadata": {},
   "outputs": [],
   "source": [
    "import math\n",
    "# pi = 3.14\n",
    "x = float(input(\"Enter x: \"))\n",
    "sigma = float(input(\"Enter o: \"))\n",
    "mu = float(input(\"Enter u: \"))\n",
    "f = (1 / sigma * (2 * math.pi) ** 0.5) * math.exp(-(((x - mu) ** 2 ) / (2 * sigma ** 2)))\n",
    "print(\"f(x) = \", f)"
   ]
  },
  {
   "cell_type": "markdown",
   "id": "f5ae1197",
   "metadata": {},
   "source": [
    "<h2>Завдання 2</h2>"
   ]
  },
  {
   "cell_type": "code",
   "execution_count": null,
   "id": "94034723",
   "metadata": {},
   "outputs": [],
   "source": [
    "john = 3\n",
    "mary = 5\n",
    "adam = 6\n",
    "\n",
    "print(john, mary, adam, sep=\" , \")\n",
    "\n",
    "totalApple = john + mary + adam\n",
    "\n",
    "print(\"Tolat apple: \", totalApple)\n"
   ]
  },
  {
   "cell_type": "markdown",
   "id": "39d3ca36",
   "metadata": {},
   "source": [
    "<h2>Завдання 3</h2>"
   ]
  },
  {
   "cell_type": "code",
   "execution_count": null,
   "id": "f304c6d3",
   "metadata": {},
   "outputs": [],
   "source": [
    "kilometers = 12.25\n",
    "miles = 7.38\n",
    "\n",
    "miles_to_kilometers = miles * 1.61\n",
    "kilometers_to_miles = kilometers / 1.61\n",
    "\n",
    "print(miles, \"miles is\", round(miles_to_kilometers, 2), \"kilometers\")\n",
    "print(kilometers, \"kilometers is\", round(kilometers_to_miles, 2), \"miles\")\n"
   ]
  },
  {
   "cell_type": "markdown",
   "id": "9c7062a0",
   "metadata": {},
   "source": [
    "<h2>Завдання 4</h2>"
   ]
  },
  {
   "cell_type": "code",
   "execution_count": null,
   "id": "dbe0b435",
   "metadata": {},
   "outputs": [],
   "source": [
    "x = 0.\n",
    "y = (3 * x ** 3) - (2 * x ** 2) + (3 ** x) - 1\n",
    "\n",
    "print(\"x = 0 \\ny = \", y)\n",
    "\n",
    "x = 1.\n",
    "y = (3 * x ** 3) - (2 * x ** 2) + (3 ** x) - 1\n",
    "\n",
    "print(\"x = 1 \\ny = \", y)\n",
    "\n",
    "x = -1.\n",
    "y = (3 * x ** 3) - (2 * x ** 2) + (3 ** x) - 1\n",
    "\n",
    "print(\"x = -1 \\ny = \", y)\n"
   ]
  },
  {
   "cell_type": "markdown",
   "id": "afb6ba72",
   "metadata": {},
   "source": [
    "<h2>Завдання 5</h2>"
   ]
  },
  {
   "cell_type": "code",
   "execution_count": null,
   "id": "25cace31",
   "metadata": {},
   "outputs": [],
   "source": [
    "# this program computes the number of seconds in a given number of hours\n",
    "\n",
    "number_of_hours = 2\n",
    "seconds_in_hour = 3600\n",
    "\n",
    "print(\"Hours: \", number_of_hours) #printing the number of hours\n",
    "print(\"Seconds in Hours: \", number_of_hours * seconds_in_hour) # printing the number of seconds in a given number of hours\n",
    "\n",
    "print(\"Goodbay\")"
   ]
  },
  {
   "cell_type": "markdown",
   "id": "94063c0a",
   "metadata": {},
   "source": [
    "<h2>Завдання 6</h2>"
   ]
  },
  {
   "cell_type": "code",
   "execution_count": null,
   "id": "dfdb3aa8",
   "metadata": {},
   "outputs": [],
   "source": [
    "a = float(input(\"Enter a: \"))\n",
    "b = float(input(\"Enter b:\"))\n",
    "\n",
    "print(\"a + b = \", a + b)\n",
    "print(\"a - b = \", a - b)\n",
    "if b == 0:\n",
    "    print(\"Не можна дільть на нуль\")\n",
    "else:\n",
    "    print(\"a / b = \", a / b)\n",
    "print(\"a * b = \", a * b)\n",
    "\n",
    "\n",
    "print(\"\\nThat's all, folks!\")"
   ]
  },
  {
   "cell_type": "markdown",
   "id": "e6a5be86",
   "metadata": {},
   "source": [
    "<h2>Завдання 7</h2>"
   ]
  },
  {
   "cell_type": "code",
   "execution_count": null,
   "id": "53001211",
   "metadata": {},
   "outputs": [],
   "source": [
    "x = float(input(\"Enter value for x: \"))\n",
    "#варіант 1\n",
    "y = 1/(x + 1/(x + 1/(x + 1/(x + 1/x))))\n",
    "\n",
    "#варіант 2\n",
    "\n",
    "#r, t, b = x\n",
    "#x += 1/r\n",
    "#r += 1/x\n",
    "#t += 1/r\n",
    "#b += 1/t\n",
    "#y = 1/b\n",
    "\n",
    "print(\"y =\", y)"
   ]
  },
  {
   "cell_type": "markdown",
   "id": "8a0918b3",
   "metadata": {},
   "source": [
    "<h2>Завдання 8</h2>"
   ]
  },
  {
   "cell_type": "code",
   "execution_count": null,
   "id": "eae24d77",
   "metadata": {},
   "outputs": [],
   "source": [
    "hour = int(input(\"Starting time (hours): \"))\n",
    "mins = int(input(\"Starting time (minutes): \"))\n",
    "dura = int(input(\"Event duration (minutes): \"))\n",
    "\n",
    "hour *= 60\n",
    "hour += mins + dura\n",
    "mins = hour % 60\n",
    "hour = int(hour / 60)\n",
    "hour = hour % 24\n",
    "\n",
    "print(hour, \":\", mins)"
   ]
  },
  {
   "cell_type": "markdown",
   "id": "f7e5f30a",
   "metadata": {},
   "source": [
    "<h1 align=\"center\">Контрольні запитання</h1>"
   ]
  },
  {
   "cell_type": "markdown",
   "id": "2b2a55fb",
   "metadata": {},
   "source": [
    "<ol>\n",
    "    <li>55</li>\n",
    "    <li>class = 'str'</li>\n",
    "</ol>"
   ]
  },
  {
   "cell_type": "code",
   "execution_count": null,
   "id": "126dc3cf",
   "metadata": {},
   "outputs": [],
   "source": []
  }
 ],
 "metadata": {
  "kernelspec": {
   "display_name": "Python 3 (ipykernel)",
   "language": "python",
   "name": "python3"
  },
  "language_info": {
   "codemirror_mode": {
    "name": "ipython",
    "version": 3
   },
   "file_extension": ".py",
   "mimetype": "text/x-python",
   "name": "python",
   "nbconvert_exporter": "python",
   "pygments_lexer": "ipython3",
   "version": "3.10.9"
  }
 },
 "nbformat": 4,
 "nbformat_minor": 5
}
