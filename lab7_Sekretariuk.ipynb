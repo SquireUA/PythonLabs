{
 "cells": [
  {
   "cell_type": "markdown",
   "id": "bbc4e657",
   "metadata": {},
   "source": [
    "<a href=\"https://github.com/SquireUA\">Секретарюк Валерій</a>, 2023"
   ]
  },
  {
   "cell_type": "markdown",
   "id": "538a8c0a",
   "metadata": {},
   "source": [
    "<h1 align=\"center\">Лабораторна робота №7. Словники, кортежі. Обробка винятків (empty)</h1>"
   ]
  },
  {
   "cell_type": "markdown",
   "id": "0939d964",
   "metadata": {},
   "source": [
    "<h2>Завдання 1</h2>"
   ]
  },
  {
   "cell_type": "code",
   "execution_count": null,
   "id": "5bc41fc5",
   "metadata": {},
   "outputs": [],
   "source": [
    "import random\n",
    "\n",
    "p = []\n",
    "for i in range(random.randint(1, 100)):\n",
    "    p.append(random.randint(-100, 100))\n",
    "t = tuple(p)\n",
    "while True:\n",
    "    try:\n",
    "        n = float(input(\"Введіть число: \"))\n",
    "        break\n",
    "    except ValueError:\n",
    "        print(\"Це не число. Введіть знову\")\n",
    "\n",
    "result = [x for x in t if x < n]\n",
    "\n",
    "print(result)"
   ]
  },
  {
   "cell_type": "markdown",
   "id": "ea212a43",
   "metadata": {},
   "source": [
    "<h2>Завдання 2</h2>"
   ]
  },
  {
   "cell_type": "code",
   "execution_count": null,
   "id": "7ba66167",
   "metadata": {},
   "outputs": [],
   "source": [
    "t = (\"Hello\", \"my\", \"world\")\n",
    "\n",
    "t2 = \", \".join(t)\n",
    "\n",
    "print(t2)"
   ]
  },
  {
   "cell_type": "markdown",
   "id": "c546340d",
   "metadata": {},
   "source": [
    "<h2>Завдання 3</h2>"
   ]
  },
  {
   "cell_type": "code",
   "execution_count": null,
   "id": "75194bf7",
   "metadata": {},
   "outputs": [],
   "source": [
    "lib = {\n",
    "    \"Відьмак: меч призначення\" : \"Анджей Сапковський, 2016, 365 сторінок\",\n",
    "    \"Космонафти з нашого будинку\" : \"Всеволод Нестайко, 2013, 347 сторінок\",\n",
    "    \"Робінзон Крузо\" : \"Данієль Дефо, 2012, 272 сторінки\"\n",
    "}\n",
    "\n",
    "name = input(\"Введіть назву книги: \")\n",
    "count = 1\n",
    "for i in lib.keys():\n",
    "    if name == i:\n",
    "        print(lib[i])\n",
    "        count = 0\n",
    "if count:\n",
    "    print(\"Такої книги немає в бібліотеці\")"
   ]
  },
  {
   "cell_type": "markdown",
   "id": "eb970a45",
   "metadata": {},
   "source": [
    "<h2>Завдання 4</h2>"
   ]
  },
  {
   "cell_type": "code",
   "execution_count": null,
   "id": "d6bb2d73",
   "metadata": {},
   "outputs": [],
   "source": [
    "students = {}\n",
    "student_name = (\"Круценко Дмитро\",\n",
    "                \"Секретарюк Валерій\",\n",
    "                \"Хань Євгеній\")\n",
    "\n",
    "student_info = (\"Гейтер Рейфи\",\n",
    "                \"Ігнорщік\",\n",
    "                \"Лох\")\n",
    "\n",
    "for i in range(len(student_name)):\n",
    "    students[student_name[i]] = student_info[i]\n",
    "\n",
    "for name, info in students.items():\n",
    "    print(name, \" -> \", info)"
   ]
  },
  {
   "cell_type": "markdown",
   "id": "11b133d4",
   "metadata": {},
   "source": [
    "<h2>Завдання 5</h2>"
   ]
  },
  {
   "cell_type": "code",
   "execution_count": null,
   "id": "288aba1c",
   "metadata": {},
   "outputs": [],
   "source": [
    "\n",
    "phone = {\"Діма\":\"2546456, 245767987\",\n",
    "        \"Євген\":\"344574577, 3665867789\",\n",
    "        \"Валерій\": \"0969482955, 465689090\"}\n",
    "\n",
    "while True:\n",
    "    ask = input(\"Бажаєте додати номер?[y/n]: \")\n",
    "    if ask == \"y\":\n",
    "        while True:\n",
    "            name = input(\"Введіть ім'я: \")\n",
    "            if name not in phone.keys():\n",
    "                print(\"Такого імені немає\")\n",
    "            else:\n",
    "                try:\n",
    "                    number = int(input(\"Введіть номер: \"))\n",
    "                    break\n",
    "                except ValueError:\n",
    "                    print(\"Ви ввели не номер. Спробуйте ще раз\")\n",
    "        phone[name] += f\", {number}\"\n",
    "    elif ask == \"n\":\n",
    "        break\n",
    "    else:\n",
    "       print(\"Я не знаю цієї команди спробуйте ще раз\")\n",
    "\n",
    "for name, number in phone.items():\n",
    "    print(name, \" -> \", number)"
   ]
  },
  {
   "cell_type": "markdown",
   "id": "b81143b8",
   "metadata": {},
   "source": [
    "<h1 align=\"center\">Контрольні запитання</h1>"
   ]
  },
  {
   "cell_type": "markdown",
   "id": "bdeb7384",
   "metadata": {},
   "source": [
    "<ol>\n",
    "    <li>(2, 3)</li>\n",
    "    <li>4</li>\n",
    "    <li>виведе помилку про те що кортеж не можна змінити</li>\n",
    "    <li>{'a': 1, 'b': 2, 'c': 3, 'd': 4}</li>\n",
    "</ol>"
   ]
  }
 ],
 "metadata": {
  "kernelspec": {
   "display_name": "Python 3 (ipykernel)",
   "language": "python",
   "name": "python3"
  },
  "language_info": {
   "codemirror_mode": {
    "name": "ipython",
    "version": 3
   },
   "file_extension": ".py",
   "mimetype": "text/x-python",
   "name": "python",
   "nbconvert_exporter": "python",
   "pygments_lexer": "ipython3",
   "version": "3.10.9"
  }
 },
 "nbformat": 4,
 "nbformat_minor": 5
}
